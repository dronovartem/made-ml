{
 "metadata": {
  "language_info": {
   "codemirror_mode": {
    "name": "ipython",
    "version": 3
   },
   "file_extension": ".py",
   "mimetype": "text/x-python",
   "name": "python",
   "nbconvert_exporter": "python",
   "pygments_lexer": "ipython3",
   "version": "3.7.6"
  },
  "orig_nbformat": 2,
  "kernelspec": {
   "name": "python376jvsc74a57bd0792f07c579a44d271d5a954d86ef011389b68884100490bdbcebda3a249cd0b2",
   "display_name": "Python 3.7.6 64-bit ('base': conda)"
  }
 },
 "nbformat": 4,
 "nbformat_minor": 2,
 "cells": [
  {
   "source": [
    "## Домашнее задание № 2. Рейтинг-система"
   ],
   "cell_type": "markdown",
   "metadata": {}
  },
  {
   "cell_type": "code",
   "execution_count": 1,
   "metadata": {},
   "outputs": [],
   "source": [
    "import numpy as np\n",
    "import pandas as pd\n",
    "from tqdm import tqdm\n",
    "from re import findall\n",
    "\n",
    "from sklearn.preprocessing import OneHotEncoder\n",
    "from sklearn.linear_model import LogisticRegression\n",
    "from sklearn.base import clone # save best model at EM step\n",
    "import scipy.stats as st\n",
    "from scipy.sparse import lil_matrix, vstack # must have for EM\n",
    "from itertools import product"
   ]
  },
  {
   "source": [
    "#### Часть 1.\n",
    "\n",
    "Прочитайте и проанализируйте данные, выберите турниры, в которых есть данные о составах команд и повопросных результатах (поле mask в results.pkl). Для унификации предлагаю:\n",
    "взять в тренировочный набор турниры с dateStart из 2019 года; \n",
    "в тестовый — турниры с dateStart из 2020 года."
   ],
   "cell_type": "markdown",
   "metadata": {}
  },
  {
   "cell_type": "code",
   "execution_count": 2,
   "metadata": {},
   "outputs": [],
   "source": [
    "tournaments_df = pd.read_pickle('tournaments.pkl')\n",
    "train_ids = [v['id'] for k, v in tournaments_df.items() if v['dateStart'][:4] == '2019']\n",
    "test_ids = [v['id'] for k, v in tournaments_df.items() if v['dateStart'][:4] == '2020']\n",
    "\n",
    "results_df = pd.read_pickle('results.pkl')"
   ]
  },
  {
   "source": [
    "Помимо общих условий, отбросим также результаты команд, для которых содержится неполная информация о матче (значения в mask, отличные от 0 и 1), а также те, длины маски которых отличаются от других (для нумерации соответствующих вопросов в рамках одного турнира):"
   ],
   "cell_type": "markdown",
   "metadata": {}
  },
  {
   "cell_type": "code",
   "execution_count": 3,
   "metadata": {},
   "outputs": [
    {
     "output_type": "stream",
     "name": "stderr",
     "text": [
      "100%|██████████| 5528/5528 [00:00<00:00, 11394.08it/s]\n"
     ]
    }
   ],
   "source": [
    "results_train = {}\n",
    "results_test = {}\n",
    "\n",
    "for tournament_id, tournament_results in tqdm(results_df.items()):\n",
    "    extracted_tournament_results = {}\n",
    "    if tournament_id in train_ids or tournament_id in test_ids:\n",
    "        for team_details in tournament_results:\n",
    "            mask = team_details.get('mask')\n",
    "            players = [player['player']['id'] for player in team_details['teamMembers']]\n",
    "\n",
    "            # skip wrong records or having unknown token in mask\n",
    "            if mask is None or not len(players) or findall('[^01]', mask):\n",
    "                continue\n",
    "\n",
    "            id = team_details['team']['id']\n",
    "            team_name = team_details['team']['name']\n",
    "\n",
    "            extracted_tournament_results[id] = {}\n",
    "            extracted_tournament_results[id]['mask'] = mask\n",
    "            extracted_tournament_results[id]['players'] = players\n",
    "    \n",
    "    # define max len of mask and remove teams scores that have shorter one\n",
    "    mask_len_mapping = {\n",
    "                            team_id: len(extracted_tournament_results[team_id]['mask'])\n",
    "                            for team_id in extracted_tournament_results.keys()\n",
    "                            }\n",
    "    if len(extracted_tournament_results):                    \n",
    "        max_mask_len = max(mask_len_mapping.values())\n",
    "        for team_id in mask_len_mapping.keys():\n",
    "            if len(extracted_tournament_results[team_id]['mask']) != max_mask_len:\n",
    "                extracted_tournament_results.pop(team_id)\n",
    "           \n",
    "        if tournament_id in train_ids:\n",
    "            results_train[tournament_id] = extracted_tournament_results\n",
    "        elif tournament_id in test_ids:\n",
    "            results_test[tournament_id] = extracted_tournament_results\n",
    "\n",
    "del results_df"
   ]
  },
  {
   "source": [
    "#### Часть 2.\n",
    "\n",
    "Постройте baseline-модель на основе линейной или логистической регрессии, которая будет обучать рейтинг-лист игроков. Замечания и подсказки:\n",
    "повопросные результаты — это фактически результаты броска монетки, и их предсказание скорее всего имеет отношение к бинарной классификации;\n",
    "в разных турнирах вопросы совсем разного уровня сложности, поэтому модель должна это учитывать; скорее всего, модель должна будет явно обучать не только силу каждого игрока, но и сложность каждого вопроса;\n",
    "для baseline-модели можно забыть о командах и считать, что повопросные результаты команды просто относятся к каждому из её игроков."
   ],
   "cell_type": "markdown",
   "metadata": {}
  },
  {
   "source": [
    "Для начала преобразуем данные к табличному виду:"
   ],
   "cell_type": "markdown",
   "metadata": {}
  },
  {
   "cell_type": "code",
   "execution_count": 4,
   "metadata": {},
   "outputs": [],
   "source": [
    "def process_baseline_dataset(results, init_question_id=0):\n",
    "    df = []\n",
    "    max_question_id = init_question_id\n",
    "    for tournament_id, teams in tqdm(results.items()):\n",
    "        tournament_question_count = None\n",
    "        for team_id, team_details in teams.items():\n",
    "            mask = np.array([int(ans) for ans in team_details['mask']])\n",
    "            if tournament_question_count is None:\n",
    "                tournament_question_count = len(mask)\n",
    "            players = team_details['players']\n",
    "            questions = np.tile(np.arange(max_question_id, max_question_id + tournament_question_count), len(players))\n",
    "            answers = np.array(np.meshgrid(players, mask)).T.reshape(-1, 2)\n",
    "            answers = np.hstack([\n",
    "                                np.repeat(tournament_id, len(questions)).reshape(-1, 1),\n",
    "                                np.repeat(team_id, len(questions)).reshape(-1, 1),\n",
    "                                answers, \n",
    "                                questions.reshape(-1, 1)\n",
    "                                ])\n",
    "            df.append(answers)\n",
    "        if tournament_question_count is not None:\n",
    "            max_question_id += tournament_question_count\n",
    "    df = np.vstack(df)\n",
    "    return pd.DataFrame(\n",
    "                        df, \n",
    "                        columns = ['tournament_id', 'team_id', 'player_id', 'answer', 'question_id']\n",
    "                        )"
   ]
  },
  {
   "source": [
    "Преобразуем трейн:"
   ],
   "cell_type": "markdown",
   "metadata": {}
  },
  {
   "cell_type": "code",
   "execution_count": 5,
   "metadata": {
    "tags": []
   },
   "outputs": [
    {
     "output_type": "stream",
     "name": "stderr",
     "text": [
      "100%|██████████| 616/616 [00:05<00:00, 109.79it/s]\n"
     ]
    },
    {
     "output_type": "execute_result",
     "data": {
      "text/plain": [
       "   tournament_id  team_id  player_id  answer  question_id\n",
       "0           4772    45556       6212       1            0\n",
       "1           4772    45556       6212       1            1\n",
       "2           4772    45556       6212       1            2\n",
       "3           4772    45556       6212       1            3\n",
       "4           4772    45556       6212       1            4"
      ],
      "text/html": "<div>\n<style scoped>\n    .dataframe tbody tr th:only-of-type {\n        vertical-align: middle;\n    }\n\n    .dataframe tbody tr th {\n        vertical-align: top;\n    }\n\n    .dataframe thead th {\n        text-align: right;\n    }\n</style>\n<table border=\"1\" class=\"dataframe\">\n  <thead>\n    <tr style=\"text-align: right;\">\n      <th></th>\n      <th>tournament_id</th>\n      <th>team_id</th>\n      <th>player_id</th>\n      <th>answer</th>\n      <th>question_id</th>\n    </tr>\n  </thead>\n  <tbody>\n    <tr>\n      <th>0</th>\n      <td>4772</td>\n      <td>45556</td>\n      <td>6212</td>\n      <td>1</td>\n      <td>0</td>\n    </tr>\n    <tr>\n      <th>1</th>\n      <td>4772</td>\n      <td>45556</td>\n      <td>6212</td>\n      <td>1</td>\n      <td>1</td>\n    </tr>\n    <tr>\n      <th>2</th>\n      <td>4772</td>\n      <td>45556</td>\n      <td>6212</td>\n      <td>1</td>\n      <td>2</td>\n    </tr>\n    <tr>\n      <th>3</th>\n      <td>4772</td>\n      <td>45556</td>\n      <td>6212</td>\n      <td>1</td>\n      <td>3</td>\n    </tr>\n    <tr>\n      <th>4</th>\n      <td>4772</td>\n      <td>45556</td>\n      <td>6212</td>\n      <td>1</td>\n      <td>4</td>\n    </tr>\n  </tbody>\n</table>\n</div>"
     },
     "metadata": {},
     "execution_count": 5
    }
   ],
   "source": [
    "train_df = process_baseline_dataset(results_train)\n",
    "train_df.head()"
   ]
  },
  {
   "source": [
    "Для обучения бэйзлайна нам потребуются лишь идентификаторы игроков, вопроса и результат."
   ],
   "cell_type": "markdown",
   "metadata": {}
  },
  {
   "cell_type": "code",
   "execution_count": 6,
   "metadata": {},
   "outputs": [],
   "source": [
    "ohe = OneHotEncoder(sparse=True, handle_unknown='ignore')\n",
    "X_train = ohe.fit_transform(train_df[['player_id', 'question_id']])\n",
    "y_train = train_df['answer']"
   ]
  },
  {
   "source": [
    "Теперь можно обучить бэйзлайн модель:"
   ],
   "cell_type": "markdown",
   "metadata": {}
  },
  {
   "cell_type": "code",
   "execution_count": 7,
   "metadata": {},
   "outputs": [
    {
     "output_type": "execute_result",
     "data": {
      "text/plain": [
       "LogisticRegression(C=1.0, class_weight=None, dual=False, fit_intercept=True,\n",
       "                   intercept_scaling=1, l1_ratio=None, max_iter=100,\n",
       "                   multi_class='auto', n_jobs=-1, penalty='l2', random_state=42,\n",
       "                   solver='lbfgs', tol=0.0001, verbose=0, warm_start=False)"
      ]
     },
     "metadata": {},
     "execution_count": 7
    }
   ],
   "source": [
    "logreg = LogisticRegression(random_state=42, n_jobs=-1)\n",
    "logreg.fit(X_train, y_train)"
   ]
  },
  {
   "source": [
    "Посмотрим распределение игроков по силе, отсортировав их по величине соответствующего коэффициента в линейной регрессии:"
   ],
   "cell_type": "markdown",
   "metadata": {}
  },
  {
   "cell_type": "code",
   "execution_count": 8,
   "metadata": {},
   "outputs": [
    {
     "output_type": "execute_result",
     "data": {
      "text/plain": [
       "       player_id  strength                               name\n",
       "3771       27403  3.702987            Руссо Максим Михайлович\n",
       "585         4270  3.543858     Брутер Александра Владимировна\n",
       "4141       30152  3.421965           Сорожкин Артём Сергеевич\n",
       "5061       37047  3.411196             Юнгер Мария Алексеевна\n",
       "3841       27822  3.292033      Савченков Михаил Владимирович\n",
       "3957       28751  3.278940            Семушин Иван Николаевич\n",
       "5242       38196  3.224670     Митрофанов Артём Александрович\n",
       "53764     216863  3.208356              Гаврилов Глеб Юрьевич\n",
       "6569       56647  3.199134        Горелова Наталья Евгеньевна\n",
       "526         3843  3.185385         Бомешко Светлана Борисовна\n",
       "4161       30270  3.168653          Спешков Сергей Леонидович\n",
       "2859       20691  3.163051  Мереминский Станислав Григорьевич\n",
       "1673       12307  3.157945        Иванцова Светлана Сергеевна\n",
       "55530     222188  3.128060                      Гринко Арина \n",
       "2508       18036  3.120236          Левандовский Михаил Ильич\n",
       "4678       34328  3.104779             Царёв Михаил Сергеевич\n",
       "7976       74001  3.101948             Мокин Игорь Викторович\n",
       "505         3671  3.101717    Богословский Алексей Алексеевич\n",
       "9098       87637  3.094156        Саксонов Антон Владимирович\n",
       "3168       22935  3.065834             Новиков Илья Сергеевич\n",
       "2924       21137  3.064938           Михайлов Кирилл Игоревич\n",
       "3151       22799  3.058442          Николенко Сергей Игоревич\n",
       "964         7008  3.054753         Гилёв Алексей Владимирович\n",
       "9396       90664  3.047076           Ермолаев Иван Викторович\n",
       "575         4226  3.032669            Бровер Сусанна Марковна"
      ],
      "text/html": "<div>\n<style scoped>\n    .dataframe tbody tr th:only-of-type {\n        vertical-align: middle;\n    }\n\n    .dataframe tbody tr th {\n        vertical-align: top;\n    }\n\n    .dataframe thead th {\n        text-align: right;\n    }\n</style>\n<table border=\"1\" class=\"dataframe\">\n  <thead>\n    <tr style=\"text-align: right;\">\n      <th></th>\n      <th>player_id</th>\n      <th>strength</th>\n      <th>name</th>\n    </tr>\n  </thead>\n  <tbody>\n    <tr>\n      <th>3771</th>\n      <td>27403</td>\n      <td>3.702987</td>\n      <td>Руссо Максим Михайлович</td>\n    </tr>\n    <tr>\n      <th>585</th>\n      <td>4270</td>\n      <td>3.543858</td>\n      <td>Брутер Александра Владимировна</td>\n    </tr>\n    <tr>\n      <th>4141</th>\n      <td>30152</td>\n      <td>3.421965</td>\n      <td>Сорожкин Артём Сергеевич</td>\n    </tr>\n    <tr>\n      <th>5061</th>\n      <td>37047</td>\n      <td>3.411196</td>\n      <td>Юнгер Мария Алексеевна</td>\n    </tr>\n    <tr>\n      <th>3841</th>\n      <td>27822</td>\n      <td>3.292033</td>\n      <td>Савченков Михаил Владимирович</td>\n    </tr>\n    <tr>\n      <th>3957</th>\n      <td>28751</td>\n      <td>3.278940</td>\n      <td>Семушин Иван Николаевич</td>\n    </tr>\n    <tr>\n      <th>5242</th>\n      <td>38196</td>\n      <td>3.224670</td>\n      <td>Митрофанов Артём Александрович</td>\n    </tr>\n    <tr>\n      <th>53764</th>\n      <td>216863</td>\n      <td>3.208356</td>\n      <td>Гаврилов Глеб Юрьевич</td>\n    </tr>\n    <tr>\n      <th>6569</th>\n      <td>56647</td>\n      <td>3.199134</td>\n      <td>Горелова Наталья Евгеньевна</td>\n    </tr>\n    <tr>\n      <th>526</th>\n      <td>3843</td>\n      <td>3.185385</td>\n      <td>Бомешко Светлана Борисовна</td>\n    </tr>\n    <tr>\n      <th>4161</th>\n      <td>30270</td>\n      <td>3.168653</td>\n      <td>Спешков Сергей Леонидович</td>\n    </tr>\n    <tr>\n      <th>2859</th>\n      <td>20691</td>\n      <td>3.163051</td>\n      <td>Мереминский Станислав Григорьевич</td>\n    </tr>\n    <tr>\n      <th>1673</th>\n      <td>12307</td>\n      <td>3.157945</td>\n      <td>Иванцова Светлана Сергеевна</td>\n    </tr>\n    <tr>\n      <th>55530</th>\n      <td>222188</td>\n      <td>3.128060</td>\n      <td>Гринко Арина</td>\n    </tr>\n    <tr>\n      <th>2508</th>\n      <td>18036</td>\n      <td>3.120236</td>\n      <td>Левандовский Михаил Ильич</td>\n    </tr>\n    <tr>\n      <th>4678</th>\n      <td>34328</td>\n      <td>3.104779</td>\n      <td>Царёв Михаил Сергеевич</td>\n    </tr>\n    <tr>\n      <th>7976</th>\n      <td>74001</td>\n      <td>3.101948</td>\n      <td>Мокин Игорь Викторович</td>\n    </tr>\n    <tr>\n      <th>505</th>\n      <td>3671</td>\n      <td>3.101717</td>\n      <td>Богословский Алексей Алексеевич</td>\n    </tr>\n    <tr>\n      <th>9098</th>\n      <td>87637</td>\n      <td>3.094156</td>\n      <td>Саксонов Антон Владимирович</td>\n    </tr>\n    <tr>\n      <th>3168</th>\n      <td>22935</td>\n      <td>3.065834</td>\n      <td>Новиков Илья Сергеевич</td>\n    </tr>\n    <tr>\n      <th>2924</th>\n      <td>21137</td>\n      <td>3.064938</td>\n      <td>Михайлов Кирилл Игоревич</td>\n    </tr>\n    <tr>\n      <th>3151</th>\n      <td>22799</td>\n      <td>3.058442</td>\n      <td>Николенко Сергей Игоревич</td>\n    </tr>\n    <tr>\n      <th>964</th>\n      <td>7008</td>\n      <td>3.054753</td>\n      <td>Гилёв Алексей Владимирович</td>\n    </tr>\n    <tr>\n      <th>9396</th>\n      <td>90664</td>\n      <td>3.047076</td>\n      <td>Ермолаев Иван Викторович</td>\n    </tr>\n    <tr>\n      <th>575</th>\n      <td>4226</td>\n      <td>3.032669</td>\n      <td>Бровер Сусанна Марковна</td>\n    </tr>\n  </tbody>\n</table>\n</div>"
     },
     "metadata": {},
     "execution_count": 8
    }
   ],
   "source": [
    "# extract player names\n",
    "players_df = pd.read_pickle('players.pkl')\n",
    "id_player_mapping = {}\n",
    "for id in set(train_df.player_id):\n",
    "    id_player_mapping[id] = players_df[id]['surname'] + ' ' + players_df[id]['name'] + ' ' + players_df[id]['patronymic']\n",
    "del players_df\n",
    "\n",
    "players_strength = pd.DataFrame({\n",
    "    'player_id': ohe.categories_[0],\n",
    "    'strength': logreg.coef_[0, :len(id_player_mapping)],\n",
    "     })\n",
    "players_strength['name'] = players_strength['player_id'].map(id_player_mapping)\n",
    "players_strength.sort_values(by='strength', ascending=False, inplace=True)\n",
    "players_strength.head(25)"
   ]
  },
  {
   "source": [
    "Исходя из представленных рейтингов на официальном сайте, бэйзлайн прогноз кажется адекватным."
   ],
   "cell_type": "markdown",
   "metadata": {}
  },
  {
   "source": [
    "#### Часть 3.\n",
    "\n",
    "Качество рейтинг-системы оценивается качеством предсказаний результатов турниров. Но сами повопросные результаты наши модели предсказывать вряд ли смогут, ведь неизвестно, насколько сложными окажутся вопросы в будущих турнирах; да и не нужны эти предсказания сами по себе. Поэтому:\n",
    "предложите способ предсказать результаты нового турнира с известными составами, но неизвестными вопросами, в виде ранжирования команд;\n",
    "в качестве метрики качества на тестовом наборе давайте считать ранговые корреляции Спирмена и Кендалла (их можно взять в пакете scipy) между реальным ранжированием в результатах турнира и предсказанным моделью, усреднённые по тестовому множеству турниров."
   ],
   "cell_type": "markdown",
   "metadata": {}
  },
  {
   "source": [
    "По аналогии с трейном, преобразуем тест. Здесь стоит иметь ввиду, что вопросы заранее неизвестны, поэтому это поле стоит игнорировать, учитывая, что на качество ранжирования эта сложность в некотором смысле не влияет. Поэтому заменим все айди вопросов значением -1:"
   ],
   "cell_type": "markdown",
   "metadata": {}
  },
  {
   "cell_type": "code",
   "execution_count": 9,
   "metadata": {},
   "outputs": [],
   "source": [
    "def process_baseline_dataset_test(results):\n",
    "    NEW_QUESTION_INDEX = -1\n",
    "    df = []\n",
    "    for tournament_id, teams in tqdm(results.items()):\n",
    "        tournament_question_count = None\n",
    "        for team_id, team_details in teams.items():\n",
    "            mask = np.array([int(ans) for ans in team_details['mask']])\n",
    "            if tournament_question_count is None:\n",
    "                tournament_question_count = len(mask)\n",
    "            # take tournaments with same questions count\n",
    "            if len(mask) == tournament_question_count:\n",
    "                for player_id in team_details['players']:\n",
    "                    df.append((tournament_id, team_id, player_id, NEW_QUESTION_INDEX, sum(mask)))\n",
    "           \n",
    "    df = np.vstack(df)\n",
    "    return pd.DataFrame(\n",
    "                        df, \n",
    "                        columns = ['tournament_id', 'team_id', 'player_id', 'question_id', 'score']\n",
    "                        )"
   ]
  },
  {
   "source": [
    "Преобразуем тест:"
   ],
   "cell_type": "markdown",
   "metadata": {}
  },
  {
   "cell_type": "code",
   "execution_count": 10,
   "metadata": {
    "tags": []
   },
   "outputs": [
    {
     "output_type": "stream",
     "name": "stderr",
     "text": [
      "100%|██████████| 160/160 [00:00<00:00, 160.02it/s]\n"
     ]
    },
    {
     "output_type": "execute_result",
     "data": {
      "text/plain": [
       "   tournament_id  team_id  player_id  question_id  score\n",
       "0           5414    66120      18490           -1     33\n",
       "1           5414    66120     116901           -1     33\n",
       "2           5414    66120       8532           -1     33\n",
       "3           5414    66120      42346           -1     33\n",
       "4           5414    66120     123190           -1     33"
      ],
      "text/html": "<div>\n<style scoped>\n    .dataframe tbody tr th:only-of-type {\n        vertical-align: middle;\n    }\n\n    .dataframe tbody tr th {\n        vertical-align: top;\n    }\n\n    .dataframe thead th {\n        text-align: right;\n    }\n</style>\n<table border=\"1\" class=\"dataframe\">\n  <thead>\n    <tr style=\"text-align: right;\">\n      <th></th>\n      <th>tournament_id</th>\n      <th>team_id</th>\n      <th>player_id</th>\n      <th>question_id</th>\n      <th>score</th>\n    </tr>\n  </thead>\n  <tbody>\n    <tr>\n      <th>0</th>\n      <td>5414</td>\n      <td>66120</td>\n      <td>18490</td>\n      <td>-1</td>\n      <td>33</td>\n    </tr>\n    <tr>\n      <th>1</th>\n      <td>5414</td>\n      <td>66120</td>\n      <td>116901</td>\n      <td>-1</td>\n      <td>33</td>\n    </tr>\n    <tr>\n      <th>2</th>\n      <td>5414</td>\n      <td>66120</td>\n      <td>8532</td>\n      <td>-1</td>\n      <td>33</td>\n    </tr>\n    <tr>\n      <th>3</th>\n      <td>5414</td>\n      <td>66120</td>\n      <td>42346</td>\n      <td>-1</td>\n      <td>33</td>\n    </tr>\n    <tr>\n      <th>4</th>\n      <td>5414</td>\n      <td>66120</td>\n      <td>123190</td>\n      <td>-1</td>\n      <td>33</td>\n    </tr>\n  </tbody>\n</table>\n</div>"
     },
     "metadata": {},
     "execution_count": 10
    }
   ],
   "source": [
    "test_df = process_baseline_dataset_test(results_test)\n",
    "test_df.head()"
   ]
  },
  {
   "source": [
    "Сделаем прогноз правильного ответа игрока в соответствии с бэйзлайн моделью:"
   ],
   "cell_type": "markdown",
   "metadata": {}
  },
  {
   "cell_type": "code",
   "execution_count": 11,
   "metadata": {},
   "outputs": [],
   "source": [
    "X_test = ohe.transform(test_df[['player_id', 'question_id']])\n",
    "success_pred = logreg.predict_proba(X_test)[:, 1]"
   ]
  },
  {
   "source": [
    "Для построения рейтинга команд были рассмотрены следующие подходы:\n",
    "\n",
    "1) ранжирование команд исходя из вероятности того, что хотя бы один игрок команды правильно ответит на вопрос;\n",
    "\n",
    "2) учитывая, что в командах сравнительно мало (как правило менее 6) игроков, сила команда оценивалась как вероятность того, что какой-то (фиксированный) процент игроков команды правильно ответит на вопрос;\n",
    "\n",
    "Далее реализован расчет указанных метрик и целевых статистик."
   ],
   "cell_type": "markdown",
   "metadata": {}
  },
  {
   "cell_type": "code",
   "execution_count": 12,
   "metadata": {},
   "outputs": [],
   "source": [
    "def someone_answer(x):\n",
    "    return 1 - np.product(1 - x)\n",
    "\n",
    "def team_vote(x, bound=0.2):\n",
    "    dist = np.array(x)\n",
    "    res = 0\n",
    "    cnt = len(dist)\n",
    "    bound = np.ceil(bound * cnt)\n",
    "    for ans in product([0, 1], repeat=cnt):\n",
    "        if not np.sum(ans) < bound:\n",
    "            ans = np.array(ans)\n",
    "            p_ans = np.product(dist ** ans) * np.product((1 - dist) ** (1 - ans))\n",
    "            res += p_ans\n",
    "    return res\n",
    "\n",
    "def get_score(df, pred, agg_func=someone_answer):\n",
    "    df['pred'] = pred\n",
    "    df['pred'] = df.groupby(['tournament_id', 'team_id'])['pred'].transform(lambda x: agg_func(x))\n",
    "    rate_df = df[['tournament_id', 'team_id', 'score', 'pred']].drop_duplicates().reset_index(drop=True)\n",
    "\n",
    "    rate_df = rate_df.sort_values(by=['tournament_id', 'pred'], ascending=False)\n",
    "    rate_df['pred_rank'] = rate_df.groupby('tournament_id')['pred'].transform(lambda x: np.arange(1, len(x) + 1))\n",
    "\n",
    "    rate_df = rate_df.sort_values(by=['tournament_id', 'score'], ascending=False)\n",
    "    rate_df['true_rank'] = rate_df.groupby('tournament_id')['score'].transform(lambda x: np.arange(1, len(x) + 1))\n",
    "\n",
    "    rate_df.drop(['pred', 'score'], axis=1, inplace=True)\n",
    "    rho = rate_df.groupby('tournament_id').apply(lambda x: st.spearmanr(x['true_rank'], x['pred_rank']).correlation).mean()\n",
    "    tau = rate_df.groupby('tournament_id').apply(lambda x: st.kendalltau(x['true_rank'], x['pred_rank']).correlation).mean()\n",
    "    return rho, tau"
   ]
  },
  {
   "source": [
    "Посчитаем качество ранжирования для каждой из стратегий (первое число - корреляция Спирмена, второе - Кендалла):"
   ],
   "cell_type": "markdown",
   "metadata": {}
  },
  {
   "cell_type": "code",
   "execution_count": 13,
   "metadata": {},
   "outputs": [
    {
     "output_type": "stream",
     "name": "stdout",
     "text": [
      "Wall time: 7.08 s\n"
     ]
    },
    {
     "output_type": "execute_result",
     "data": {
      "text/plain": [
       "(0.7705446620836607, 0.6204650001036078)"
      ]
     },
     "metadata": {},
     "execution_count": 13
    }
   ],
   "source": [
    "%%time\n",
    "get_score(test_df, success_pred)"
   ]
  },
  {
   "cell_type": "code",
   "execution_count": 14,
   "metadata": {},
   "outputs": [
    {
     "output_type": "stream",
     "name": "stdout",
     "text": [
      "Wall time: 29.8 s\n"
     ]
    },
    {
     "output_type": "execute_result",
     "data": {
      "text/plain": [
       "(0.7097367202909768, 0.5526203337533793)"
      ]
     },
     "metadata": {},
     "execution_count": 14
    }
   ],
   "source": [
    "%%time\n",
    "get_score(test_df, success_pred, agg_func=team_vote)"
   ]
  },
  {
   "source": [
    "Корреляции в норме для каждого из вариантов, однако подход основанный на вероятности ответа хотя бы одного игрока показывает лучшие результаты (рассматривались различные значения bound) по корреляциям, а также значительно легче обобщается для бОльшего числа игроков."
   ],
   "cell_type": "markdown",
   "metadata": {}
  },
  {
   "source": [
    "#### Часть 4."
   ],
   "cell_type": "markdown",
   "metadata": {}
  },
  {
   "source": [
    "Теперь главное: ЧГК — это всё-таки командная игра. Поэтому:\n",
    "предложите способ учитывать то, что на вопрос отвечают сразу несколько игроков; скорее всего, понадобятся скрытые переменные; не стесняйтесь делать упрощающие предположения, но теперь переменные “игрок X ответил на вопрос Y” при условии данных должны стать зависимыми для игроков одной и той же команды;\n",
    "разработайте EM-схему для обучения этой модели, реализуйте её в коде;\n",
    "обучите несколько итераций, убедитесь, что целевые метрики со временем растут (скорее всего, ненамного, но расти должны), выберите лучшую модель, используя целевые метрики."
   ],
   "cell_type": "markdown",
   "metadata": {}
  },
  {
   "source": [
    "Будем считать, что команда дает правильный ответ, если хотя бы один из ее игроков знает правильный ответ.\n",
    "Теперь введем скрытые переменные $z_{ij}$, которые равны 1, если игрок $i$ правильно ответил на вопрос $j$, и нулю в противном случае.\n",
    "\n",
    "Тогда, если команда ответила на вопрос верно:\n",
    "$$P(z_{ij}| y=1)=\\frac{P(y=1|z_{ij}) \\cdot P(z_{ij})}{P(y=1)},$$\n",
    "где $y$ - ответ на вопрос, а $P(y=1)=1 - \\prod\\limits_{i = 1}^{n_{players}} p(z_{ij})$.\n",
    "\n",
    "Для обучения предложенной модели ЕМ-алгоритмом будет как и раньше использовать логистическую регрессию, добавив веса для каждого \"наблюдения\". Тогда:\n",
    "\n",
    "- на Е шаге будем обновлять веса регрессии, используя выражение для $P(z_{ij}| y=1)$;\n",
    "- на М шаге будет переобучать логистическую регрессию используя полученные ранее веса."
   ],
   "cell_type": "markdown",
   "metadata": {}
  },
  {
   "cell_type": "code",
   "execution_count": 15,
   "metadata": {},
   "outputs": [],
   "source": [
    "X = vstack([X_train, X_train], format='lil', dtype=np.int8)\n",
    "Y = (X_train.shape[0] * [1] + X_train.shape[0] * [0])"
   ]
  },
  {
   "cell_type": "code",
   "execution_count": 16,
   "metadata": {},
   "outputs": [],
   "source": [
    "class EMclassifier:\n",
    "    def __init__(self):\n",
    "        self.model = LogisticRegression(random_state=42, n_jobs=-1)\n",
    "        print(\"Model initializing...\\n\")\n",
    "        self.model.fit(X_train, y_train)\n",
    "        self.pred = None\n",
    "        self.best_model = None\n",
    "        self.best_rho = -1\n",
    "        self.best_tau = -1\n",
    "\n",
    "    def __E_step(self):\n",
    "        self.pred = self.model.predict_proba(X_train)[:, 1]\n",
    "        self.pred = self.__weight_update(results_train, self.pred)\n",
    "    \n",
    "    def __M_step(self):\n",
    "        lr_weights = np.hstack([self.pred, 1 - self.pred])\n",
    "        self.model.fit(X, Y, sample_weight = lr_weights)\n",
    "\n",
    "    def fit(self, n_steps=5):\n",
    "        for n_step in range(n_steps):\n",
    "            print(\"\\nStep \", n_step + 1,\" ...\\n\")\n",
    "            self.__E_step()\n",
    "            self.__M_step()\n",
    "            next_score = self.model.predict_proba(X_test)[:, 1]\n",
    "            rho, tau = get_score(test_df, next_score)\n",
    "            print(\"\\nSpearman correlation: \", rho)\n",
    "            print(\"Kendall correlation: \", tau)\n",
    "            if rho > self.best_rho:\n",
    "                self.best_model = clone(self.model)\n",
    "                self.best_model.coef_ = self.model.coef_\n",
    "                self.best_rho = rho\n",
    "                self.best_tau = tau\n",
    "\n",
    "    @staticmethod\n",
    "    def __weight_update(results, pred):\n",
    "        pos = 0\n",
    "        next_pred = []\n",
    "        for _, teams in tqdm(results.items()):\n",
    "            for team_id, team_details in teams.items():\n",
    "                mask = np.array([int(ans) for ans in team_details['mask']])\n",
    "                question_count = len(mask)\n",
    "                players = team_details['players']\n",
    "                players_count = len(players)\n",
    "                batch_size = question_count * len(players)\n",
    "                batch = pred[pos : pos + batch_size].reshape(players_count, question_count)\n",
    "                updated_batch = np.clip(batch / (1 - np.product(1 - batch, axis=0)) * mask, 0, 1)\n",
    "                next_pred += updated_batch.reshape(1, batch_size).tolist()[0]\n",
    "                pos += batch_size\n",
    "        return np.array(next_pred)"
   ]
  },
  {
   "cell_type": "code",
   "execution_count": 17,
   "metadata": {},
   "outputs": [
    {
     "output_type": "stream",
     "name": "stdout",
     "text": [
      "Model initializing...\n",
      "\n",
      "\n",
      "Step  1  ...\n",
      "\n",
      "100%|██████████| 616/616 [00:04<00:00, 140.59it/s]\n",
      "\n",
      "Spearman correlation:  0.7712751309309436\n",
      "Kendall correlation:  0.6224694786250812\n",
      "\n",
      "Step  2  ...\n",
      "\n",
      "100%|██████████| 616/616 [00:04<00:00, 142.60it/s]\n",
      "\n",
      "Spearman correlation:  0.7729747264753636\n",
      "Kendall correlation:  0.6237751933022099\n",
      "\n",
      "Step  3  ...\n",
      "\n",
      "100%|██████████| 616/616 [00:04<00:00, 144.25it/s]\n",
      "\n",
      "Spearman correlation:  0.7659632663373849\n",
      "Kendall correlation:  0.6171607554984493\n",
      "\n",
      "Step  4  ...\n",
      "\n",
      "100%|██████████| 616/616 [00:04<00:00, 143.64it/s]\n",
      "\n",
      "Spearman correlation:  0.7770891992593054\n",
      "Kendall correlation:  0.628093722834591\n",
      "\n",
      "Step  5  ...\n",
      "\n",
      "100%|██████████| 616/616 [00:04<00:00, 133.58it/s]\n",
      "\n",
      "Spearman correlation:  0.779524943450047\n",
      "Kendall correlation:  0.6303400709880445\n"
     ]
    }
   ],
   "source": [
    "em = EMclassifier()\n",
    "em.fit()"
   ]
  },
  {
   "source": [
    "Как видно из результатов расчета, использование ЕМ алгоритма примерно на 1% увеличило качество ранжирования."
   ],
   "cell_type": "markdown",
   "metadata": {}
  },
  {
   "source": [
    "#### Часть 5."
   ],
   "cell_type": "markdown",
   "metadata": {}
  },
  {
   "source": [
    "А что там с вопросами? Постройте “рейтинг-лист” турниров по сложности вопросов. Соответствует ли он интуиции (например, на чемпионате мира в целом должны быть сложные вопросы, а на турнирах для школьников — простые)?"
   ],
   "cell_type": "markdown",
   "metadata": {}
  },
  {
   "source": [
    "Оценим \"сложность\" турнира медианой сложности вопроса, разыгранного в турнире (в данном случае, коэффициента логистической регрессии, соответствующего question_id). Извлечем данные и выведем топ-20 \"сложных\" и \"простых\" турниров:"
   ],
   "cell_type": "markdown",
   "metadata": {}
  },
  {
   "cell_type": "code",
   "execution_count": 18,
   "metadata": {},
   "outputs": [],
   "source": [
    "train_questions_count = max(train_df.question_id) + 1\n",
    "question_to_weight_mapping = pd.DataFrame({\n",
    "    'question_id': np.arange(train_questions_count),\n",
    "    'weight': em.best_model.coef_[0, -train_questions_count:]\n",
    "     })\n",
    "\n",
    "tournament_rate_df = pd.merge(train_df[['tournament_id', 'question_id']], question_to_weight_mapping, how='left', on='question_id')\n",
    "tournament_rate_df = tournament_rate_df.groupby('tournament_id')['weight'].median().reset_index()\n",
    "\n",
    "names = []\n",
    "for id in tournament_rate_df.tournament_id:\n",
    "    names.append(tournaments_df[id]['name'])\n",
    "    \n",
    "tournament_rate_df['tournament_name'] = names\n",
    "tournament_rate_df.sort_values(by='weight', inplace=True)"
   ]
  },
  {
   "cell_type": "code",
   "execution_count": 19,
   "metadata": {},
   "outputs": [
    {
     "output_type": "execute_result",
     "data": {
      "text/plain": [
       "     tournament_id    weight                          tournament_name\n",
       "35            5159 -2.053856             Первенство правого полушария\n",
       "488           5928 -2.032680                              Угрюмый Ёрш\n",
       "604           6149 -1.942270  Чемпионат Санкт-Петербурга. Первая лига\n",
       "539           5996 -1.613044                 Тихий Донец: омут первый\n",
       "254           5587 -1.565750                         Записки охотника\n",
       "58            5303 -1.564225             Мемориал Дмитрия Коноваленко\n",
       "12            5025 -1.544080                            Кубок городов\n",
       "36            5161 -1.531693                                Антибинго\n",
       "580           6101 -1.531433                       Воображаемый музей\n",
       "157           5465 -1.529842                         Чемпионат России\n",
       "22            5083 -1.496036                        Ускользающая сова\n",
       "407           5795 -1.472004                             Кубок Москвы\n",
       "499           5942 -1.450942         Чемпионат Мира. Этап 2. Группа В\n",
       "117           5412 -1.407372            Серия Premier. Седьмая печать\n",
       "536           5993 -1.353191                         Енисейская знать\n",
       "506           5949 -1.263384          Чемпионат Мира. Финал. Группа В\n",
       "342           5693 -1.262187                         Знание – Сила VI\n",
       "41            5186 -1.255301         VERSUS: Коробейников vs. Матвеев\n",
       "124           5421 -1.240761                     Львов зимой. Адвокат\n",
       "497           5940 -1.237499         Чемпионат Мира. Этап 1. Группа С"
      ],
      "text/html": "<div>\n<style scoped>\n    .dataframe tbody tr th:only-of-type {\n        vertical-align: middle;\n    }\n\n    .dataframe tbody tr th {\n        vertical-align: top;\n    }\n\n    .dataframe thead th {\n        text-align: right;\n    }\n</style>\n<table border=\"1\" class=\"dataframe\">\n  <thead>\n    <tr style=\"text-align: right;\">\n      <th></th>\n      <th>tournament_id</th>\n      <th>weight</th>\n      <th>tournament_name</th>\n    </tr>\n  </thead>\n  <tbody>\n    <tr>\n      <th>35</th>\n      <td>5159</td>\n      <td>-2.053856</td>\n      <td>Первенство правого полушария</td>\n    </tr>\n    <tr>\n      <th>488</th>\n      <td>5928</td>\n      <td>-2.032680</td>\n      <td>Угрюмый Ёрш</td>\n    </tr>\n    <tr>\n      <th>604</th>\n      <td>6149</td>\n      <td>-1.942270</td>\n      <td>Чемпионат Санкт-Петербурга. Первая лига</td>\n    </tr>\n    <tr>\n      <th>539</th>\n      <td>5996</td>\n      <td>-1.613044</td>\n      <td>Тихий Донец: омут первый</td>\n    </tr>\n    <tr>\n      <th>254</th>\n      <td>5587</td>\n      <td>-1.565750</td>\n      <td>Записки охотника</td>\n    </tr>\n    <tr>\n      <th>58</th>\n      <td>5303</td>\n      <td>-1.564225</td>\n      <td>Мемориал Дмитрия Коноваленко</td>\n    </tr>\n    <tr>\n      <th>12</th>\n      <td>5025</td>\n      <td>-1.544080</td>\n      <td>Кубок городов</td>\n    </tr>\n    <tr>\n      <th>36</th>\n      <td>5161</td>\n      <td>-1.531693</td>\n      <td>Антибинго</td>\n    </tr>\n    <tr>\n      <th>580</th>\n      <td>6101</td>\n      <td>-1.531433</td>\n      <td>Воображаемый музей</td>\n    </tr>\n    <tr>\n      <th>157</th>\n      <td>5465</td>\n      <td>-1.529842</td>\n      <td>Чемпионат России</td>\n    </tr>\n    <tr>\n      <th>22</th>\n      <td>5083</td>\n      <td>-1.496036</td>\n      <td>Ускользающая сова</td>\n    </tr>\n    <tr>\n      <th>407</th>\n      <td>5795</td>\n      <td>-1.472004</td>\n      <td>Кубок Москвы</td>\n    </tr>\n    <tr>\n      <th>499</th>\n      <td>5942</td>\n      <td>-1.450942</td>\n      <td>Чемпионат Мира. Этап 2. Группа В</td>\n    </tr>\n    <tr>\n      <th>117</th>\n      <td>5412</td>\n      <td>-1.407372</td>\n      <td>Серия Premier. Седьмая печать</td>\n    </tr>\n    <tr>\n      <th>536</th>\n      <td>5993</td>\n      <td>-1.353191</td>\n      <td>Енисейская знать</td>\n    </tr>\n    <tr>\n      <th>506</th>\n      <td>5949</td>\n      <td>-1.263384</td>\n      <td>Чемпионат Мира. Финал. Группа В</td>\n    </tr>\n    <tr>\n      <th>342</th>\n      <td>5693</td>\n      <td>-1.262187</td>\n      <td>Знание – Сила VI</td>\n    </tr>\n    <tr>\n      <th>41</th>\n      <td>5186</td>\n      <td>-1.255301</td>\n      <td>VERSUS: Коробейников vs. Матвеев</td>\n    </tr>\n    <tr>\n      <th>124</th>\n      <td>5421</td>\n      <td>-1.240761</td>\n      <td>Львов зимой. Адвокат</td>\n    </tr>\n    <tr>\n      <th>497</th>\n      <td>5940</td>\n      <td>-1.237499</td>\n      <td>Чемпионат Мира. Этап 1. Группа С</td>\n    </tr>\n  </tbody>\n</table>\n</div>"
     },
     "metadata": {},
     "execution_count": 19
    }
   ],
   "source": [
    "tournament_rate_df.head(20)"
   ]
  },
  {
   "cell_type": "code",
   "execution_count": 20,
   "metadata": {},
   "outputs": [
    {
     "output_type": "execute_result",
     "data": {
      "text/plain": [
       "     tournament_id    weight                                   tournament_name\n",
       "174           5486  1.193579                                Маленькае люстэрка\n",
       "8             5011  1.225942           (а)Синхрон-lite. Лига старта. Эпизод IV\n",
       "351           5704  1.243747            (а)Синхрон-lite. Лига старта. Эпизод X\n",
       "519           5972  1.244274                               Кубок малых городов\n",
       "345           5698  1.248929          (а)Синхрон-lite. Лига старта. Эпизод VII\n",
       "443           5857  1.255784                                      Летний салат\n",
       "442           5855  1.287211                                Лига вузов. IV тур\n",
       "196           5511  1.289171                                               KFC\n",
       "423           5828  1.290265                            Гарри Поттер и 3 по 12\n",
       "33            5130  1.314238                              Лига Сибири. VI тур.\n",
       "477           5907  1.314555                                  Осенняя кинолига\n",
       "349           5702  1.325381           (а)Синхрон-lite. Лига старта. Эпизод IX\n",
       "61            5312  1.328416              Парный асинхронный турнир ChGK is...\n",
       "521           5975  1.367492              Чемпионат Минска. Лига Б. Тур первый\n",
       "322           5667  1.398927                                          Командум\n",
       "492           5935  1.405048                       Асинхрон по «Королю и Шуту»\n",
       "362           5729  1.415380                          Синхрон-lite. Выпуск XXX\n",
       "10            5013  1.458844            (а)Синхрон-lite. Лига старта. Эпизод V\n",
       "6             5009  1.531559          (а)Синхрон-lite. Лига старта. Эпизод III\n",
       "542           6003  1.579150  Второй тематический турнир имени Джоуи Триббиани"
      ],
      "text/html": "<div>\n<style scoped>\n    .dataframe tbody tr th:only-of-type {\n        vertical-align: middle;\n    }\n\n    .dataframe tbody tr th {\n        vertical-align: top;\n    }\n\n    .dataframe thead th {\n        text-align: right;\n    }\n</style>\n<table border=\"1\" class=\"dataframe\">\n  <thead>\n    <tr style=\"text-align: right;\">\n      <th></th>\n      <th>tournament_id</th>\n      <th>weight</th>\n      <th>tournament_name</th>\n    </tr>\n  </thead>\n  <tbody>\n    <tr>\n      <th>174</th>\n      <td>5486</td>\n      <td>1.193579</td>\n      <td>Маленькае люстэрка</td>\n    </tr>\n    <tr>\n      <th>8</th>\n      <td>5011</td>\n      <td>1.225942</td>\n      <td>(а)Синхрон-lite. Лига старта. Эпизод IV</td>\n    </tr>\n    <tr>\n      <th>351</th>\n      <td>5704</td>\n      <td>1.243747</td>\n      <td>(а)Синхрон-lite. Лига старта. Эпизод X</td>\n    </tr>\n    <tr>\n      <th>519</th>\n      <td>5972</td>\n      <td>1.244274</td>\n      <td>Кубок малых городов</td>\n    </tr>\n    <tr>\n      <th>345</th>\n      <td>5698</td>\n      <td>1.248929</td>\n      <td>(а)Синхрон-lite. Лига старта. Эпизод VII</td>\n    </tr>\n    <tr>\n      <th>443</th>\n      <td>5857</td>\n      <td>1.255784</td>\n      <td>Летний салат</td>\n    </tr>\n    <tr>\n      <th>442</th>\n      <td>5855</td>\n      <td>1.287211</td>\n      <td>Лига вузов. IV тур</td>\n    </tr>\n    <tr>\n      <th>196</th>\n      <td>5511</td>\n      <td>1.289171</td>\n      <td>KFC</td>\n    </tr>\n    <tr>\n      <th>423</th>\n      <td>5828</td>\n      <td>1.290265</td>\n      <td>Гарри Поттер и 3 по 12</td>\n    </tr>\n    <tr>\n      <th>33</th>\n      <td>5130</td>\n      <td>1.314238</td>\n      <td>Лига Сибири. VI тур.</td>\n    </tr>\n    <tr>\n      <th>477</th>\n      <td>5907</td>\n      <td>1.314555</td>\n      <td>Осенняя кинолига</td>\n    </tr>\n    <tr>\n      <th>349</th>\n      <td>5702</td>\n      <td>1.325381</td>\n      <td>(а)Синхрон-lite. Лига старта. Эпизод IX</td>\n    </tr>\n    <tr>\n      <th>61</th>\n      <td>5312</td>\n      <td>1.328416</td>\n      <td>Парный асинхронный турнир ChGK is...</td>\n    </tr>\n    <tr>\n      <th>521</th>\n      <td>5975</td>\n      <td>1.367492</td>\n      <td>Чемпионат Минска. Лига Б. Тур первый</td>\n    </tr>\n    <tr>\n      <th>322</th>\n      <td>5667</td>\n      <td>1.398927</td>\n      <td>Командум</td>\n    </tr>\n    <tr>\n      <th>492</th>\n      <td>5935</td>\n      <td>1.405048</td>\n      <td>Асинхрон по «Королю и Шуту»</td>\n    </tr>\n    <tr>\n      <th>362</th>\n      <td>5729</td>\n      <td>1.415380</td>\n      <td>Синхрон-lite. Выпуск XXX</td>\n    </tr>\n    <tr>\n      <th>10</th>\n      <td>5013</td>\n      <td>1.458844</td>\n      <td>(а)Синхрон-lite. Лига старта. Эпизод V</td>\n    </tr>\n    <tr>\n      <th>6</th>\n      <td>5009</td>\n      <td>1.531559</td>\n      <td>(а)Синхрон-lite. Лига старта. Эпизод III</td>\n    </tr>\n    <tr>\n      <th>542</th>\n      <td>6003</td>\n      <td>1.579150</td>\n      <td>Второй тематический турнир имени Джоуи Триббиани</td>\n    </tr>\n  </tbody>\n</table>\n</div>"
     },
     "metadata": {},
     "execution_count": 20
    }
   ],
   "source": [
    "tournament_rate_df.tail(20)"
   ]
  },
  {
   "source": [
    "В целом, посчитанный рейтинг соответствует интуиции. В топе есть турниры уровня Чемпионата Санкт-Петербурга, Кубка Москвы и Чемпионата Мира, а в конце - группа турниров формата \"Лига Старта\"."
   ],
   "cell_type": "markdown",
   "metadata": {}
  }
 ]
}